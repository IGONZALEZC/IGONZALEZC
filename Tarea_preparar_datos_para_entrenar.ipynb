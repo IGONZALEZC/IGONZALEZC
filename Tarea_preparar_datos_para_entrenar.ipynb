{
  "nbformat": 4,
  "nbformat_minor": 0,
  "metadata": {
    "colab": {
      "name": "Tarea_preparar_datos_para_entrenar.ipynb",
      "provenance": [],
      "collapsed_sections": [],
      "authorship_tag": "ABX9TyNDgBSp4JX/nU+jfp8ZMP3Y",
      "include_colab_link": true
    },
    "kernelspec": {
      "name": "python3",
      "display_name": "Python 3"
    },
    "language_info": {
      "name": "python"
    }
  },
  "cells": [
    {
      "cell_type": "markdown",
      "metadata": {
        "id": "view-in-github",
        "colab_type": "text"
      },
      "source": [
        "<a href=\"https://colab.research.google.com/github/IGONZALEZC/IGONZALEZC/blob/main/Tarea_preparar_datos_para_entrenar.ipynb\" target=\"_parent\"><img src=\"https://colab.research.google.com/assets/colab-badge.svg\" alt=\"Open In Colab\"/></a>"
      ]
    },
    {
      "cell_type": "code",
      "source": [
        "import urllib.request\n",
        "\n",
        "urllib.request.urlretrieve('https://raw.githubusercontent.com/IGONZALEZC/IGONZALEZC/main/oecd_bli_2018.csv', 'oecd_bli_2018.csv')\n",
        "# @author: ISAAC GONZALEZ CRUZ\n",
        "import matplotlib.pyplot as plt\n",
        "import numpy as np\n",
        "import pandas as pd\n",
        "import sklearn.linear_model\n",
        "\n",
        "\n",
        "# Cargando la data data\n",
        "Air_pollution = pd.read_csv(\"oecd_bli_2018.csv\", thousands=',')\n",
        "Life_satisfaction = pd.read_csv(\"oecd_bli_2018.csv\",thousands=',')\n",
        "\n",
        "Air_pollution = Air_pollution[Air_pollution[\"INEQUALITY\"]==\"TOT\"]\n",
        "Air_pollution = Air_pollution[Air_pollution[\"Indicator\"]==\"Air pollution\"]\n",
        "Air_pollution = Air_pollution.pivot(index=\"Country\", columns=\"Indicator\", values=\"Value\")\n",
        "Air_pollution.head()\n",
        "\n",
        "Life_satisfaction = Life_satisfaction[Life_satisfaction[\"INEQUALITY\"]==\"TOT\"]\n",
        "Life_satisfaction = Life_satisfaction[Life_satisfaction[\"Indicator\"]==\"Life satisfaction\"]\n",
        "Life_satisfaction = Life_satisfaction.pivot(index=\"Country\", columns=\"Indicator\", values=\"Value\")\n",
        "Life_satisfaction.head()\n",
        "\n",
        "# Acomoda los datos para preparar el conjunto de entrenamiento\n",
        "full_country_stats = pd.merge(left=Air_pollution, right=Life_satisfaction, left_index=True, right_index=True)\n",
        "full_country_stats.sort_values(by=\"Life satisfaction\", inplace=True)\n",
        "full_country_stats\n",
        "\n",
        "# Visualizando la data\n",
        "sample_data = full_country_stats[[\"Life satisfaction\", 'Air pollution']]\n",
        "sample_data.plot(kind='scatter', x=\"Life satisfaction\", y='Air pollution', figsize=(10,7))\n",
        "plt.show()\n",
        "\n",
        "# Seleccionar un modelo lineal\n",
        "model = sklearn.linear_model.LinearRegression()\n",
        "\n"
      ],
      "metadata": {
        "id": "7xJdMpKTY-HC",
        "colab": {
          "base_uri": "https://localhost:8080/",
          "height": 442
        },
        "outputId": "889b410b-a549-4fe9-906b-fba7eb861fd9"
      },
      "execution_count": null,
      "outputs": [
        {
          "output_type": "display_data",
          "data": {
            "text/plain": [
              "<Figure size 720x504 with 1 Axes>"
            ],
            "image/png": "[encoded data removed]"
          },
          "metadata": {
            "needs_background": "light"
          }
        }
      ]
    },
    {
      "cell_type": "markdown",
      "source": [
        "# Nueva sección"
      ],
      "metadata": {
        "id": "jddboY2sk2m4"
      }
    },
    {
      "cell_type": "markdown",
      "source": [
        ""
      ],
      "metadata": {
        "id": "XMcxD0OXkx0Q"
      }
    }
  ]
}